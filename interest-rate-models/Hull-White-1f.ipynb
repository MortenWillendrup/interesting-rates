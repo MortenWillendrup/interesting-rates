{
 "cells": [
  {
   "cell_type": "markdown",
   "metadata": {
    "cell_id": "42B4C8D85B1B4E74932E71A47B6AAAA8"
   },
   "source": [
    "# One Factor Hull-White model in PyTorch\n",
    "Thomas Viehmann, <tv@interestingrates.de>\n",
    "\n",
    "In this notebook, we are implementing the [Hull-White model](https://en.wikipedia.org/wiki/Hull-White_model) in the formulation given by Brigo and Mercurio [On Deterministic Shift Extensions of Short Rate Models](https://papers.ssrn.com/sol3/papers.cfm?abstract_id=292060) in PyTorch.\n",
    "\n",
    "Thus we implement three things:\n",
    "- A special case of the one-factor Vasicek model including pricing of zero-coupon bond options.\n",
    "- The shift extension from this Vasicek model to the Hull-White-Model.\n",
    "- Swaption pricing using [Jamshidian's decomposition](https://en.wikipedia.org/wiki/Jamshidian's_trick) in the one-factor model\n",
    "\n",
    "The last two parts can be shared between the Hull-White model and the CIR++ proposed by Brigo and Mercurio (though there are minute differences to the [CIR notebook's version](CIR.ipynb)).\n",
    "\n",
    "And we would like many things, in particular swaption prices, to be differentiable by the model parameters in order to do calibration.\n",
    "The Hull-White model is given by the stochastic differential equation\n",
    "$$\n",
    "dr_t = \\alpha (\\mu(t)-r_t) dt + \\sigma dW_t.\n",
    "$$\n",
    "It has a closed-form solution for $r_t$: The short rate $r_t$ is normally distributed with\n",
    "$$\n",
    "r_t \\sim \\mathcal{N}\\left(\\exp(-\\alpha t) r_0 + \\int_0^t \\exp(-\\alpha (t-s)) \\mu(t) ds, \\frac{\\sigma^2}{2\\alpha} (1-\\exp(-2\\alpha t))\\right).\n",
    "$$\n",
    "\n",
    "Brio and Mercurio point out that $\\mu(t)$ and the initial value $r_0$ only affect the mean value of $r_t$, but not the stochasticity around it.\n",
    "Thus, one can write the model as a mean-zero Vasicek model\n",
    "$$\n",
    "dr^{\\text{V0}}_t = - \\alpha r^{\\text{V0}}_t dt + \\sigma dW_t,\n",
    "$$\n",
    "shifted by\n",
    "$$\n",
    "r^{\\text{shifted}}(t) = r^{\\text{V0}}(t) + \\varphi(t)\n",
    "$$\n",
    "for the deterministic shift function $\\varphi = E(r_t)$.\n",
    "\n",
    "As we are interested in observations of fixed time intervals and a corresponding set of discrete maturities, where only integrals of $\\varphi$ between time steps play a rôle, or more precisely, factors $F(t,T)=\\exp(-\\int_t^T \\varphi d\\tau)$. But these can be expressed as quotients\n",
    "$$\n",
    "\\exp\\left(-\\int_t^T \\varphi d\\tau\\right)=\\frac{ZCB(t,T)}{ZCB^{\\text{V0}}(t,T)}.\n",
    "$$\n",
    "Indeed, we will not compute or work with $\\varphi$ and substitute the above when applying Brigo or Mercurio's formulas (the same formulas as in the article mentioned above also appear in their book).\n",
    "\n",
    "First we import a few python modules."
   ]
  },
  {
   "cell_type": "code",
   "execution_count": 1,
   "metadata": {
    "cell_id": "B04F7255BE2043AA805FD4492CF499CF"
   },
   "outputs": [],
   "source": [
    "import torch\n",
    "import numpy\n",
    "from matplotlib import pyplot\n",
    "import jupyter_import\n",
    "%matplotlib inline"
   ]
  },
  {
   "cell_type": "markdown",
   "metadata": {
    "cell_id": "0A48716E2BE04B16A07DCADEAD0F6746"
   },
   "source": [
    "We introduce a convenience function to wrap scalars and tensors in autograd `Variables`."
   ]
  },
  {
   "cell_type": "code",
   "execution_count": 2,
   "metadata": {
    "cell_id": "553D0F8F318C494A9E4CA610E425A8C7"
   },
   "outputs": [],
   "source": [
    "%lib\n",
    "def wrap(x, **argv):\n",
    "  if numpy.isscalar(x):\n",
    "    x = torch.autograd.Variable(torch.DoubleTensor([x]), **argv)\n",
    "  elif isinstance(x, torch.DoubleTensor):\n",
    "    x = torch.autograd.Variable(x)\n",
    "  elif isinstance(x, torch.FloatTensor):\n",
    "    x = torch.autograd.Variable(x.double())\n",
    "  elif isinstance(x, (torch.autograd.Variable, torch.nn.Parameter)):\n",
    "    pass\n",
    "  else:\n",
    "    raise Exception(\"Nothing to help you with \"+str(x))\n",
    "  return x\n"
   ]
  },
  {
   "cell_type": "markdown",
   "metadata": {
    "cell_id": "D4557F97658D4CF980BA49E0709C7FD6"
   },
   "source": [
    "We use an [approximation from Wikipedia](https://en.wikipedia.org/wiki/Normal_distribution#Numerical_approximations_for_the_normal_CDF) for the Normal CDF."
   ]
  },
  {
   "cell_type": "code",
   "execution_count": 3,
   "metadata": {
    "cell_id": "C3F57F1A0F4340028A2A51095C704DB9"
   },
   "outputs": [],
   "source": [
    "a_for_erf = 8.0/(3.0*numpy.pi)*(numpy.pi-3.0)/(4.0-numpy.pi)\n",
    "def erf_approx(x):\n",
    "    return torch.sign(x)*torch.sqrt(1-torch.exp(-x*x*(4/numpy.pi+a_for_erf*x*x)/(1+a_for_erf*x*x)))\n",
    "def erfinv_approx(x):\n",
    "    b = -2/(numpy.pi*a_for_erf)-torch.log(1-x*x)/2\n",
    "    return torch.sign(x)*torch.sqrt(b+torch.sqrt(b*b-torch.log(1-x*x)/a_for_erf))\n",
    "\n",
    "def normal_cdf(x):\n",
    "    return 0.5*(1.0+erf_approx(x/(2**0.5)))\n"
   ]
  },
  {
   "cell_type": "markdown",
   "metadata": {
    "cell_id": "91C49610780B4B82816BC53BDC1CB652"
   },
   "source": [
    "For the Jamshidian decomposition we need an implicitly defined critical rate $r^*$. This will be obtained by\n",
    "gradient descent to minimize the square norm of the defining function to find the zero level set, i.e.\n",
    "$f(x) = y$ where $y$ is given by $F(x,y)=0$.\n",
    "\n",
    "The implicit function theorem readily provides a formula for the derivative, in order to backpropagate through\n",
    "the implicit function, we define an autograd function. Details of the implementation and a brief mention of\n",
    "mathematics is at my [Implicit functions in Pytorch Notebook](https://github.com/t-vi/pytorch-tvmisc/blob/master/misc/Implicit_Functions_Pytorch.ipynb). Note that the input may $x$ may be a vector, but the sought value $y$ needs to be a scalar as we do not compute the Jacobian and its inverse. But that is all we need."
   ]
  },
  {
   "cell_type": "code",
   "execution_count": 4,
   "metadata": {
    "cell_id": "B16CF8A782F744F081BE3560CD8680D4"
   },
   "outputs": [],
   "source": [
    "%lib\n",
    "class Implicit(torch.autograd.Function):\n",
    "    @staticmethod\n",
    "    def forward(ctx, x, y0, F, max_iter=200, reg=1e-6):\n",
    "        y = torch.autograd.Variable(y0.clone(), requires_grad=True)\n",
    "        xv = torch.autograd.Variable(x)\n",
    "        opt = torch.optim.LBFGS([y], max_iter=max_iter)\n",
    "        def reevaluate():\n",
    "            opt.zero_grad()\n",
    "            z = F(xv,y)**2\n",
    "            z.backward()\n",
    "            return z\n",
    "        opt.step(reevaluate)\n",
    "        xv = torch.autograd.Variable(x, requires_grad=True)\n",
    "        y.grad = None\n",
    "        z = F(xv,y)\n",
    "        z.backward()\n",
    "        ctx._dx_by_dy = xv.grad.data/(y.grad.data+y.grad.data.sign()*reg)\n",
    "        return y.data\n",
    "    @staticmethod\n",
    "    def backward(ctx, output_grad):\n",
    "        return -torch.autograd.Variable(ctx._dx_by_dy)*output_grad, None, None, None, None"
   ]
  },
  {
   "cell_type": "markdown",
   "metadata": {
    "cell_id": "B6583E7FBCFD46C5A8D032B4A730B318"
   },
   "source": [
    "We are now ready to define a Vasicek0 class.\n",
    "While the bond price and zero-coupon bond option formulas seem to be well-covered in the literature (e.g. Brigo and Mercurio), the simulation implemented in the `step` method below seems to be less so. For your convenience, I have written some [notes on the derivation](http://www.interestingrates.de/artikel/hull-white-implementation/)."
   ]
  },
  {
   "cell_type": "code",
   "execution_count": 5,
   "metadata": {
    "cell_id": "8FA08DECFAA049208B84BBAB1C1AFFD9"
   },
   "outputs": [],
   "source": [
    "%lib\n",
    "eps = 1e-8\n",
    "\n",
    "class Vasicek0:\n",
    "    def __init__(self, alpha, sigma):\n",
    "        self.alpha = alpha\n",
    "        self.sigma = sigma\n",
    "        self.initr = wrap(0.0)\n",
    "    def get_params(self):\n",
    "        return torch.cat([self.alpha, self.sigma])\n",
    "    def step(self, dt, r0, defl0):\n",
    "        numSim = r0.size(0)\n",
    "        \n",
    "        mu = torch.exp(-self.alpha*dt)\n",
    "        VR  = ((self.sigma**2/(2*self.alpha))*(1-mu**2))\n",
    "        VIntR  = (self.sigma**2/(self.alpha**3) * ( dt*self.alpha - 2*(1-mu) + (1-mu**2)/2))\n",
    "        CovRIntR     = (self.sigma**2/(2*self.alpha**2)) * ((1-mu)**2)# ((1-mu)**2)\n",
    "        rnd2factor   = (VIntR - CovRIntR**2/VR)**0.5\n",
    "        rnd = r0.data.new(*r0.size()).normal_()\n",
    "        numRnd = r0.size(0)//2\n",
    "        rnd1 = wrap(torch.cat((rnd[:numRnd],-rnd[:numRnd]),dim=0))\n",
    "        rnd2 = wrap(torch.cat((rnd[numRnd:],-rnd[numRnd:]),dim=0))\n",
    "        r = r0*mu + VR**0.5 * rnd1\n",
    "        defl = defl0 * torch.exp(-(r0/self.alpha*(1-mu)+ (CovRIntR/(VR**0.5))*rnd1+ rnd2factor*rnd2))\n",
    "        \n",
    "        return r, defl\n",
    "\n",
    "    def simulate(self, num_sims, num_years, initr=None, steps_per_year=1):\n",
    "        \"\"\"Simulate the process for a given number of years and simulations and keep the annual values\"\"\"\n",
    "        initr = initr if initr is not None else wrap(0.0)\n",
    "        r0 = initr.expand(num_sims)\n",
    "        d0 = wrap(torch.ones(num_sims))\n",
    "        r = [r0]\n",
    "        d = [d0]\n",
    "        for i in range(num_years):\n",
    "            for j in range(steps_per_year):\n",
    "                r0,d0 = model.step(1.0/steps_per_year,r0,d0)\n",
    "            r.append(r0)\n",
    "            d.append(d0)\n",
    "        r = torch.stack(r)\n",
    "        d = torch.stack(d)\n",
    "        return r,d\n",
    "\n",
    "    def zcb_price(self, r, term, params=None):\n",
    "        \"\"\"Returns ZCB prices (= expected exponential integrated short rates) in the Vasicek 0 model\"\"\"\n",
    "        if params is None:\n",
    "            alpha, sigma = self.alpha, self.sigma\n",
    "        else:\n",
    "            alpha, sigma = torch.split(params, 1, dim=0)\n",
    "        B = (1-torch.exp(-alpha*term))/alpha\n",
    "        A = torch.exp(-sigma**2/(2*alpha**2)*(B-term)-sigma**2/(4*alpha)*B**2)\n",
    "        return A*torch.exp(-B*r)\n",
    "\n",
    "    def init_zcb_price(self, term):\n",
    "        \"\"\"Return initial ZCB prices, a convenience function for the shift extension\"\"\"\n",
    "        return self.zcb_price(0.0, term)\n",
    "        \n",
    "    def call_zcb(self, term, tenor, X, r0):\n",
    "        \"\"\"Returns the price of a call option on a zero coupon bond.\n",
    "        The option matures at term, the zero coupon bond at term+tenor.\n",
    "        The strike ZCB price is X.\n",
    "        The current (time 0) short rate is r0.\"\"\"\n",
    "\n",
    "        sigma_zcb = 1/self.alpha*(1-torch.exp(-self.alpha*(tenor)))*torch.sqrt(self.sigma**2/(2*self.alpha)*(1-torch.exp(-2*self.alpha*term)))\n",
    "        Pbondmat = self.zcb_price(r0, term+tenor)\n",
    "        Poptionexp = self.zcb_price(r0, term)\n",
    "        d1 = (Pbondmat.log()-Poptionexp.log()-X.log()+0.5*sigma_zcb**2)/(sigma_zcb)\n",
    "        d2 = d1-sigma_zcb\n",
    "        return Pbondmat*normal_cdf(d1)-Poptionexp*X*normal_cdf(d2)\n"
   ]
  },
  {
   "cell_type": "markdown",
   "metadata": {
    "cell_id": "429D7472EC924206B8210D16192C20F8"
   },
   "source": [
    "We are now ready to implement the shifted model of Brigo and Mercurio that will give a Hull-White-Model when combined with the above.\n",
    "\n",
    "We take a fully initialized `Vasicek0` model (that can give zero bond prices) and a desired Zero Coupon Bond curve.\n",
    "The formulas follow Brigo and Mercurio with the substitution mentioned above and get formulas for the deflators (in the method `simulate`), zero coupon bonds (but this time, it is dependend on the time step, so we expect $r$ to be of shape $timesteps \\times simulation$).\n",
    "\n",
    "The function `call_atm_swap` implements pricing of at the money european receiver swaptions using Jamshidians decomposition. The critical rate $r^*$ is defined as the one where the resulting swap rate is exactly the strike swap rate. Using that the forward swap rate $s$ is defined as \n",
    "$$f = \\frac{ZCB(0,oterm)-ZCB(0,oterm+tenor)}{\\sum_{i=oterm+1}^{oterm+tenor}ZCB(0,i)},$$\n",
    "we can define the critical rate $r^*$ as the rate given by the equation\n",
    "$$\n",
    "F(\\alpha,\\mu,\\sigma,r^*):=s_{\\text{strike}} \\sum_{i=oterm+1}^{oterm+tenor}ZCB(0,i) - (ZCB(0,oterm)-ZCB(0,oterm+tenor)) =0.\n",
    "$$\n",
    "The ZCB prices and thus the critical rate also depend on the model parameters $\\alpha$, $\\mu$, and $\\sigma$."
   ]
  },
  {
   "cell_type": "code",
   "execution_count": 6,
   "metadata": {
    "cell_id": "BF85D84185C4437CB2CD50DF082CC48C"
   },
   "outputs": [],
   "source": [
    "%lib\n",
    "class ShiftedModel:\n",
    "  def __init__(self, basemodel, zcbs):\n",
    "    self.zcbs  = zcbs\n",
    "    self.basemodel = basemodel\n",
    "    self.xzcbsbase = self.basemodel.init_zcb_price(wrap(torch.arange(0,zcbs.size(0)+1)))\n",
    "    self.zcbsbase = self.xzcbsbase[1:]\n",
    "    self.xzcbs = torch.cat((wrap(self.zcbs.data.new(1).fill_(1.0)),self.zcbs),dim=0)\n",
    "\n",
    "  def simulate(self, num_sims, num_years, steps_per_year=12):\n",
    "    r, d_base = self.basemodel.simulate(num_sims, num_years, steps_per_year=steps_per_year)\n",
    "    numYears_plus_one = r.size(0)\n",
    "    d = d_base*(self.xzcbs[:numYears_plus_one].unsqueeze(1)/self.xzcbsbase[:numYears_plus_one].unsqueeze(1))\n",
    "    return r,d\n",
    "\n",
    "  def zcb_price(self, r, term):\n",
    "    numYears = r.size(0)-1\n",
    "    assert len(self.zcbs)>=term+numYears\n",
    "    forwardzcbs = self.xzcbs[term:]/self.xzcbs[:-term]\n",
    "    forwardzcbsbase = self.xzcbsbase[term:]/self.xzcbsbase[:-term]\n",
    "    forwardzcbfactors = forwardzcbs[:numYears+1]/forwardzcbsbase[:numYears+1]\n",
    "    zcbPrice = self.basemodel.zcb_price(r, term)*forwardzcbfactors.unsqueeze(1)\n",
    "    return zcbPrice\n",
    "\n",
    "  def forward_zcb_prices_terms(self, r, t, maxterm, params=None):\n",
    "    assert len(self.xzcbs) >= t+maxterm+1\n",
    "    terms = wrap(torch.arange(0, maxterm+1))\n",
    "    zcb_prices_base = self.basemodel.zcb_price(r, terms, params=params)\n",
    "    forwardzcbsbase = zcb_prices_base/zcb_prices_base[0] #self.xzcbsbase[t:t+maxterm+1]/self.xzcbsbase[t]\n",
    "    forwardzcbs = self.xzcbs[t:t+maxterm+1]/self.xzcbs[t]\n",
    "    forwardzcbfactors = forwardzcbs/forwardzcbsbase\n",
    "    zcbPrices = zcb_prices_base*forwardzcbfactors\n",
    "    return zcbPrices\n",
    "    \n",
    "  def call_zcb(self, term, tenor, X, r0): # Brigo Mercurio ZCB in CIR\n",
    "    zcb_factor_term_plus_tenor = self.xzcbs[term+tenor]/self.xzcbsbase[term+tenor]\n",
    "    zcb_factor_term = self.xzcbs[term]/self.xzcbsbase[term]\n",
    "    X_adj = X/(zcb_factor_term_plus_tenor/zcb_factor_term)\n",
    "    return self.basemodel.call_zcb(term, tenor, X_adj, r0)*zcb_factor_term_plus_tenor\n",
    "\n",
    "  def call_atm_swap(self, oterm, tenor, r0=None):\n",
    "    if r0 is None:\n",
    "        r0 = self.basemodel.initr\n",
    "    s = (self.xzcbs[oterm]-self.xzcbs[oterm+tenor])/self.xzcbs[oterm+1:oterm+tenor+1].sum()\n",
    "    def F_jamshidian(params, r):\n",
    "        zcbs = self.forward_zcb_prices_terms(r, oterm, tenor, params=params)\n",
    "        return s*zcbs[1:].sum()+zcbs[tenor]-zcbs[0]\n",
    "\n",
    "    params = self.basemodel.get_params()\n",
    "    rstar = Implicit.apply(params, wrap(0.01), F_jamshidian) # where is sigma from?!\n",
    "    zcbs = self.forward_zcb_prices_terms(rstar, oterm, tenor)\n",
    "    price = (1+s)*self.call_zcb(oterm, tenor, zcbs[tenor], r0)\n",
    "    for i in range(tenor-1):\n",
    "        price += s*self.call_zcb(oterm, i+1, zcbs[i+1], r0)\n",
    "    normvol = price*(((2*numpy.pi)/oterm)**0.5)/(self.xzcbs[oterm+1:oterm+tenor+1].sum())\n",
    "    return price, normvol"
   ]
  },
  {
   "cell_type": "markdown",
   "metadata": {
    "cell_id": "D0D363732A5D4FF48E8917B7EEF59BC0"
   },
   "source": [
    "We can test the our new class.\n",
    "We use the spot (zero coupon swap rate) rates of 31 December 2016. \n",
    "These can be obtained from the usual providers, or freely from the Deutsche Bundesbank [published as part of the HGB §253 (2) discount rate information](http://www.bundesbank.de/Navigation/DE/Statistiken/Zeitreihen_Datenbanken/Geld_und_Kapitalmaerkte/geld_und_kapitalmaerkte_list_node.html?listId=www_skms_it05b).\n",
    "The other parameters are made up, though."
   ]
  },
  {
   "cell_type": "code",
   "execution_count": 7,
   "metadata": {
    "cell_id": "B91FC04FC0C4432687A5D46AA4725C2A"
   },
   "outputs": [],
   "source": [
    "num_sims = 100000\n",
    "num_years = 10\n",
    "spots = torch.FloatTensor([-0.00217, -0.00163, -0.00119, -0.00025, 0.0006, 0.00177, 0.00302, 0.00437, 0.00558, 0.00676, 0.0077, 0.00849, 0.00925, 0.00991, 0.01048, 0.01087, 0.01121, 0.01152, 0.01179, 0.01204])\n",
    "zcbs = wrap((1+spots)**(-torch.arange(1,spots.size(0)+1)))\n",
    "alpha = wrap(0.1)\n",
    "sigma = wrap(0.016)\n",
    "model = Vasicek0(alpha, sigma)\n",
    "model2 = ShiftedModel(model, zcbs)"
   ]
  },
  {
   "cell_type": "markdown",
   "metadata": {
    "cell_id": "AE6821C40AFF4EA884914D4A1E702673"
   },
   "source": [
    "We can produce simulations for the short rate $r$ and the discount factor $defl$."
   ]
  },
  {
   "cell_type": "code",
   "execution_count": 8,
   "metadata": {
    "cell_id": "F71A4FCF16924CB1B2A82CDEBC763307"
   },
   "outputs": [],
   "source": [
    "r,d = model2.simulate(num_sims, num_years, steps_per_year=1)"
   ]
  },
  {
   "cell_type": "markdown",
   "metadata": {
    "cell_id": "0A1458C317634F83954C70E96D3896A0"
   },
   "source": [
    "The first check is whether the mean deflator matches the zero cupon bonds, i.e. whether the simulation discount factors reflect the initial discount curve for fixed payments.\n",
    "\n",
    "(Ideally we would produce confidence intervals to match standard practice, but that is for another day.)"
   ]
  },
  {
   "cell_type": "code",
   "execution_count": 9,
   "metadata": {
    "cell_id": "7C48D2EA0CE34B758BA6C2D3D75E8783"
   },
   "outputs": [
    {
     "data": {
      "text/plain": [
       "[<matplotlib.lines.Line2D at 0x7f462688be48>]"
      ]
     },
     "execution_count": 9,
     "metadata": {},
     "output_type": "execute_result"
    },
    {
     "data": {
      "image/png": "[encoded data removed]",
      "text/plain": [
       "<matplotlib.figure.Figure at 0x7f462695a748>"
      ]
     },
     "metadata": {},
     "output_type": "display_data"
    }
   ],
   "source": [
    "pyplot.plot((d[1:].mean(1)/zcbs[:d.size(0)-1]-1).data.numpy())"
   ]
  },
  {
   "cell_type": "markdown",
   "metadata": {
    "cell_id": "6C9FF9356034480FAF4BBFF0707B349D"
   },
   "source": [
    "We can also do this for forward prices, e.g. for the 10-year ZCB in the future."
   ]
  },
  {
   "cell_type": "code",
   "execution_count": 10,
   "metadata": {
    "cell_id": "B0523EE7127E4AF6BC66A065CC0F65B1"
   },
   "outputs": [
    {
     "data": {
      "text/plain": [
       "[<matplotlib.lines.Line2D at 0x7f46267cb4e0>]"
      ]
     },
     "execution_count": 10,
     "metadata": {},
     "output_type": "execute_result"
    },
    {
     "data": {
      "image/png": "[encoded data removed]",
      "text/plain": [
       "<matplotlib.figure.Figure at 0x7f46268bae10>"
      ]
     },
     "metadata": {},
     "output_type": "display_data"
    }
   ],
   "source": [
    "pyplot.plot((((model2.zcb_price(r,10)*d).mean(1)/zcbs[9:])-1).data.numpy())"
   ]
  },
  {
   "cell_type": "markdown",
   "metadata": {
    "cell_id": "FFDAB7FEF582496C8F51C632509BB1CC"
   },
   "source": [
    "We can also compare the Monte Carlo price, i.e. the discounted payoff, of a call option on a ZCB with the analytical price function."
   ]
  },
  {
   "cell_type": "code",
   "execution_count": 11,
   "metadata": {
    "cell_id": "7DFFEF7A73D04F708DEE1BAD8784F137"
   },
   "outputs": [
    {
     "data": {
      "text/plain": [
       "(0.09214147244611484, 0.092169449862495617)"
      ]
     },
     "execution_count": 11,
     "metadata": {},
     "output_type": "execute_result"
    }
   ],
   "source": [
    "def compare_zcb_call(term, tenor, strike):\n",
    "  formula_price = model2.call_zcb(term, tenor, wrap(strike), wrap(0.0))\n",
    "  zcb_forward   = model2.zcb_price(r[:term+1], tenor).data.numpy()[term]\n",
    "  d_term = d[term,:].data.numpy()\n",
    "  mc_price = (numpy.fmax(zcb_forward-strike,0)*d_term).mean()\n",
    "  return formula_price.data[0], mc_price\n",
    "\n",
    "compare_zcb_call(5,1,0.9)"
   ]
  },
  {
   "cell_type": "markdown",
   "metadata": {
    "cell_id": "10A49411D9354556864AA8707795F30C"
   },
   "source": [
    "And we can also compare Monte Carlo price of a receiver swaption to the Jamshidian-calculated price."
   ]
  },
  {
   "cell_type": "code",
   "execution_count": 12,
   "metadata": {
    "cell_id": "DA62CE56C0234A0DA910C1EEBCF8617D"
   },
   "outputs": [
    {
     "data": {
      "text/plain": [
       "(0.073441667132462349, 0.0735625476327573)"
      ]
     },
     "execution_count": 12,
     "metadata": {},
     "output_type": "execute_result"
    }
   ],
   "source": [
    "def compare_swaption(term, tenor):\n",
    "  atm_swap_rate = (model2.xzcbs[term]-model2.xzcbs[term+tenor])/model2.xzcbs[term+1:term+tenor+1].sum()\n",
    "  zcb_forwards = torch.stack([model2.zcb_price(r[:term+1], t)[term] for t in range(1,tenor+1)])\n",
    "  payoffs = (atm_swap_rate*zcb_forwards.sum(0)-(1-zcb_forwards[-1])).data.numpy()\n",
    "  d_term = d[term,:].data.numpy()\n",
    "  mc_price = (numpy.fmax(payoffs,0)*d_term).mean()\n",
    "  formula_price,_ = model2.call_atm_swap(term, tenor)\n",
    "  return mc_price, formula_price.data[0]\n",
    "compare_swaption(10,10)"
   ]
  },
  {
   "cell_type": "markdown",
   "metadata": {
    "cell_id": "BB38CBE8CC754FA08FA46AC2356109FD"
   },
   "source": [
    "# Calibration"
   ]
  },
  {
   "cell_type": "markdown",
   "metadata": {
    "cell_id": "A9BF479F44B0424988733267E59A9DEE"
   },
   "source": [
    "For illustration, we calibrate the model three times.\n",
    "\n",
    "The first method is gradient descent (which is not stochastic in our case) using the `torch.SGD` class."
   ]
  },
  {
   "cell_type": "code",
   "execution_count": 13,
   "metadata": {
    "cell_id": "E3C32CCF2A9A44AEA4CB41C0FF1D5F15"
   },
   "outputs": [
    {
     "name": "stdout",
     "output_type": "stream",
     "text": [
      "err 4.073408922898773e-11 sigma 0.017275957440965186\n"
     ]
    }
   ],
   "source": [
    "vol_market = 0.0074 # 10-10 swaption 2016-12-31, normal volatility (=74bps)\n",
    "\n",
    "sigma = wrap(0.016, requires_grad=True)\n",
    "opt = torch.optim.SGD([sigma],lr=1e-4)\n",
    "for i in range(20):\n",
    "    opt.zero_grad()\n",
    "    hw = ShiftedModel(Vasicek0(alpha, sigma), zcbs)\n",
    "    _,vol_model = hw.call_atm_swap(10, 10)\n",
    "    error = ((vol_model-vol_market)*100)**2\n",
    "    error.backward()\n",
    "    opt.step()\n",
    "hw = ShiftedModel(Vasicek0(alpha, sigma), zcbs)\n",
    "_,vol_model = hw.call_atm_swap(10, 10)\n",
    "error = ((vol_model-vol_market)*100)**2\n",
    "print (\"err\", error.data[0], \"sigma\", sigma.data[0])\n"
   ]
  },
  {
   "cell_type": "markdown",
   "metadata": {
    "cell_id": "0E279DA183E245F7B9B2827C153318E9"
   },
   "source": [
    "The second method is the [LBFGS](https://en.wikipedia.org/wiki/Limited-memory_BFGS) quasi-newton method. It is a bit more elaborate to use in pytorch because it needs a closure to reevaluate the model."
   ]
  },
  {
   "cell_type": "code",
   "execution_count": 14,
   "metadata": {
    "cell_id": "A893BB97A8AB4C1DBF1F773CD5C90758"
   },
   "outputs": [
    {
     "name": "stdout",
     "output_type": "stream",
     "text": [
      "err 6.1346504079490504e-09 sigma 0.017277943162396\n"
     ]
    }
   ],
   "source": [
    "vol_market = 0.0074 # 10-10 swaption 2016-12-31\n",
    "\n",
    "sigma = wrap(0.016, requires_grad=True)\n",
    "opt = torch.optim.LBFGS([sigma], lr=1e-1, max_iter=100)\n",
    "def calc_error():\n",
    "    opt.zero_grad()\n",
    "    hw = ShiftedModel(Vasicek0(alpha, sigma), zcbs)\n",
    "    _,vol_model = hw.call_atm_swap(10, 10)\n",
    "    error = ((vol_model-vol_market)*100)**2\n",
    "    error.backward()\n",
    "    return error\n",
    "    \n",
    "opt.step(calc_error)\n",
    "opt.zero_grad()\n",
    "hw = ShiftedModel(Vasicek0(alpha, sigma), zcbs)\n",
    "_,vol_model = hw.call_atm_swap(10, 10)\n",
    "error = ((vol_model-vol_market)*100)**2\n",
    "print (\"err\", error.data[0], \"sigma\", sigma.data[0])\n"
   ]
  },
  {
   "cell_type": "markdown",
   "metadata": {
    "cell_id": "661146B8B1DE45748DB91E4E35762323"
   },
   "source": [
    "Finally, given that there is only one parameter, we implement a bisection method. The search range of $\\sigma$ does seem to come out of thin air. In my experience and for $\\alpha=0.1$ most historic values of $\\sigma$ fall into the interval $[0.1,0.2]$, so we double each of the bounds to be safe."
   ]
  },
  {
   "cell_type": "code",
   "execution_count": 15,
   "metadata": {
    "cell_id": "ED1EF9A0C91F402F84FEA0FB98821C31"
   },
   "outputs": [
    {
     "name": "stdout",
     "output_type": "stream",
     "text": [
      "resulting sigma: 0.01727638244628906 model vol: 0.007400117474390436 market vol: 0.0074\n"
     ]
    }
   ],
   "source": [
    "sigma_min = 0.005\n",
    "sigma_max = 0.04\n",
    "\n",
    "vol_market = 0.0074 # 10-10 swaption 2016-12-31\n",
    "\n",
    "_, vol_min = ShiftedModel(Vasicek0(alpha, wrap(sigma_min)), zcbs).call_atm_swap(10, 10)\n",
    "_, vol_max = ShiftedModel(Vasicek0(alpha, wrap(sigma_max)), zcbs).call_atm_swap(10, 10)\n",
    "\n",
    "\n",
    "while sigma_max-sigma_min>1e-6:\n",
    "    sigma_mid = 0.5*(sigma_min+sigma_max)\n",
    "    _, vol_mid = ShiftedModel(Vasicek0(alpha, wrap(sigma_mid)), zcbs).call_atm_swap(10, 10)\n",
    "    if vol_mid.data[0] > vol_market:\n",
    "        sigma_max, vol_max = sigma_mid, vol_mid\n",
    "    else:\n",
    "        sigma_min, vol_min = sigma_mid, vol_mid\n",
    "\n",
    "print (\"resulting sigma:\",sigma_mid, \"model vol:\", vol_mid.data[0], \"market vol:\",vol_market)"
   ]
  },
  {
   "cell_type": "markdown",
   "metadata": {
    "cell_id": "949D43D6772C4A82A54BB27FCECDEFFF"
   },
   "source": [
    "I hope this notebook is informative for you. I read and appreciate every mail with feedback you send to <tv@interestingrates.de>.\n",
    "\n",
    "Thomas Viehmann"
   ]
  },
  {
   "cell_type": "code",
   "execution_count": null,
   "metadata": {
    "cell_id": "C34ECDCEA0F54C8B8EDA067AE56C4390"
   },
   "outputs": [],
   "source": []
  }
 ],
 "metadata": {
  "kernelspec": {
   "display_name": "Python 3",
   "language": "python",
   "name": "python3"
  },
  "language_info": {
   "codemirror_mode": {
    "name": "ipython",
    "version": 3
   },
   "file_extension": ".py",
   "mimetype": "text/x-python",
   "name": "python",
   "nbconvert_exporter": "python",
   "pygments_lexer": "ipython3",
   "version": "3.5.3"
  }
 },
 "nbformat": 4,
 "nbformat_minor": 2
}
